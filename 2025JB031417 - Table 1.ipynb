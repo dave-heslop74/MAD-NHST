{
 "cells": [
  {
   "cell_type": "markdown",
   "id": "be0b74e3",
   "metadata": {},
   "source": [
    "### Establishing a statistical framework for assessing paleomagnetic data quality: A significance test based on maximum angular deviation.\n",
    "\n",
    "by D. Heslop and A.P. Roberts\n",
    "\n",
    "*Research School of Earth Sciences, Australian National University, ACT 2601, Canberra, Australia*"
   ]
  },
  {
   "cell_type": "markdown",
   "id": "2e767375",
   "metadata": {},
   "source": [
    "### Estimation of the critical maximum angular deviation (MAD) values provided in Table 1. \n",
    "\n",
    "#### Import required libraries and functions"
   ]
  },
  {
   "cell_type": "code",
   "execution_count": 1,
   "id": "bd03d95c",
   "metadata": {},
   "outputs": [],
   "source": [
    "import numpy as np #import numpy\n",
    "from scipy.stats import wishart #import the Wishart distribution function"
   ]
  },
  {
   "cell_type": "markdown",
   "id": "db2a70d6",
   "metadata": {},
   "source": [
    "#### Define the Monte Carlo function to estimate the critical MAD values for an array of significance levels ($\\alpha$) "
   ]
  },
  {
   "cell_type": "code",
   "execution_count": 2,
   "id": "bb776552",
   "metadata": {},
   "outputs": [],
   "source": [
    "def MADcrit(N,alpha,niter=int(1E8)):\n",
    "    \n",
    "    \"\"\"\n",
    "    Estimate the MAD critical value at a given significance level to \n",
    "    test a null hypothesis of random demagnetization behavior.\n",
    "\n",
    "    Parameters\n",
    "    ----------\n",
    "    N : integer\n",
    "        Number of demagnetization points in the unanchored PCA fit.\n",
    "    alpha : float\n",
    "        Array of significance values for which the critical MAD values should be estimated.\n",
    "    niter: integer\n",
    "        Number of Monte Carlo iterations (default is 1E8).\n",
    "\n",
    "    Returns\n",
    "    -------\n",
    "    float\n",
    "        Array of estimated critical MAD values.\n",
    "\n",
    "    Examples\n",
    "    --------\n",
    "    >>> N = 10\n",
    "    >>> alpha = np.array([0.0001,0.001,0.01,0.05,0.1])\n",
    "    >>> MADcrit(N, alpha)\n",
    "    [19.5, 23.1, 27.6, 31.7, 33.9]\n",
    "    \"\"\"\n",
    "    \n",
    "    df = N-1 #degrees of freedom of the Wishart distribution\n",
    "    X = wishart.rvs(df, scale=np.ones(3),size=niter) #Generate samples from the Wishart distribution\n",
    "    X = np.sort(np.linalg.eig(X)[0],axis=1) #find and sort the eigenvalues of each case\n",
    "    #find the MAD values and estimate critical values based on the percentiles corresponding to alpha\n",
    "    MAD_prc = np.nanpercentile(np.arctan(np.sqrt((X[:,0]+X[:,1])/X[:,2])),alpha*100) \n",
    "    \n",
    "    return np.rad2deg(MAD_prc) #return critical values in degrees"
   ]
  },
  {
   "cell_type": "markdown",
   "id": "62c55517",
   "metadata": {},
   "source": [
    "#### Perform the calculation\n",
    "N.B., this can take some time (tens of minutes) if you running the default 10$^8$ iterations."
   ]
  },
  {
   "cell_type": "code",
   "execution_count": 3,
   "id": "a845ec67",
   "metadata": {},
   "outputs": [],
   "source": [
    "alpha = np.array([0.0001,0.001,0.01,0.05,0.1]) #define array of alpha values to be estimated\n",
    "N = 10 #define N corresponding to the number of demagnetization points in the unanchored PCA fit\n",
    "result = MADcrit(N,alpha) #call the function"
   ]
  },
  {
   "cell_type": "markdown",
   "id": "1aba7093",
   "metadata": {},
   "source": [
    "#### Print the results to screen"
   ]
  },
  {
   "cell_type": "code",
   "execution_count": 4,
   "id": "4415e1e5",
   "metadata": {},
   "outputs": [
    {
     "name": "stdout",
     "output_type": "stream",
     "text": [
      "Estimated critical MAD values in degrees\n",
      "alpha = 0.0001 --> critical MAD = 19.5\n",
      "alpha = 0.001 --> critical MAD = 23.1\n",
      "alpha = 0.01 --> critical MAD = 27.6\n",
      "alpha = 0.05 --> critical MAD = 31.7\n",
      "alpha = 0.1 --> critical MAD = 33.9\n"
     ]
    }
   ],
   "source": [
    "print('Estimated critical MAD values in degrees')\n",
    "for a, r in zip(np.atleast_1d(alpha), np.atleast_1d(np.round(result,1))):\n",
    "    print(f\"alpha = {a} --> critical MAD = {r}\")"
   ]
  }
 ],
 "metadata": {
  "kernelspec": {
   "display_name": "Python 3",
   "language": "python",
   "name": "python3"
  },
  "language_info": {
   "codemirror_mode": {
    "name": "ipython",
    "version": 3
   },
   "file_extension": ".py",
   "mimetype": "text/x-python",
   "name": "python",
   "nbconvert_exporter": "python",
   "pygments_lexer": "ipython3",
   "version": "3.8.3"
  }
 },
 "nbformat": 4,
 "nbformat_minor": 5
}
