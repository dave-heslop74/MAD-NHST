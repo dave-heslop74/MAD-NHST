{
 "cells": [
  {
   "cell_type": "markdown",
   "id": "096773e8",
   "metadata": {},
   "source": [
    "### Establishing a statistical framework for assessing paleomagnetic data quality: A significance test based on maximum angular deviation.\n",
    "\n",
    "by D. Heslop and A.P. Roberts\n",
    "\n",
    "*Research School of Earth Sciences, Australian National University, ACT 2601, Canberra, Australia*"
   ]
  },
  {
   "cell_type": "markdown",
   "id": "0da270f1",
   "metadata": {},
   "source": [
    "### Estimation of test power corresponding to values provided in Table 2. \n",
    "\n",
    "#### Import required libraries and functions"
   ]
  },
  {
   "cell_type": "code",
   "execution_count": 1,
   "id": "cb0a0bd0",
   "metadata": {},
   "outputs": [],
   "source": [
    "import numpy as np #import numpy\n",
    "from scipy.stats import wishart #import the Wishart distribution function"
   ]
  },
  {
   "cell_type": "markdown",
   "id": "8778fc92",
   "metadata": {},
   "source": [
    "#### Define the Monte Carlo function to estimate the critical MAD values for an array of significance levels ($\\alpha$) "
   ]
  },
  {
   "cell_type": "code",
   "execution_count": 2,
   "id": "7c3b5c3d",
   "metadata": {},
   "outputs": [],
   "source": [
    "def POWERest(N,MAD,MADc,niter=int(1E6)):\n",
    "    \n",
    "    \"\"\"\n",
    "    Estimate the NHST power.\n",
    "\n",
    "    Parameters\n",
    "    ----------\n",
    "    N : integer\n",
    "        Number of demagnetization points in the unanchored PCA fit.\n",
    "    MAD : float\n",
    "        Underlying MAD of the demagnetization data\n",
    "    MADc : float\n",
    "        Critical MAD at chosen significance level (0.05 in the case of Table 2)\n",
    "    niter: integer\n",
    "        Number of Monte Carlo iterations (default is 1E6).\n",
    "\n",
    "    Returns\n",
    "    -------\n",
    "    float\n",
    "        Estimated NHST power.\n",
    "\n",
    "    Examples\n",
    "    --------\n",
    "    >>> N = 4\n",
    "    >>> MAD = 15\n",
    "    >>> MADc = 14.8\n",
    "    >>> POWERest(N,MAD,MADc)\n",
    "    0.63\n",
    "    \"\"\"\n",
    "    \n",
    "    df = N-1 #degrees of freedom of the Wishart distribution\n",
    "    L23 = np.tan(np.deg2rad(MAD))**2/2 #find the underlying second and third eigenvalues\n",
    "    L123 = np.array([1,L23,L23]) #diagonal of the corresponding covariance matrix\n",
    "    \n",
    "    X = wishart.rvs(df, scale=L123/df,size=niter) #Generate samples from the Wishart distribution\n",
    "    X = np.sort(np.linalg.eig(X)[0],axis=1) #find and sort the eigenvalues of each case\n",
    "    X = np.arctan(np.sqrt((X[:,0]+X[:,1])/X[:,2])) #MADs in radians\n",
    "    beta = np.sum(X>np.deg2rad(MADc))/niter #proportion of MAD values > MADc\n",
    "    \n",
    "    return 1-beta #convert beta to power"
   ]
  },
  {
   "cell_type": "markdown",
   "id": "455e0a38",
   "metadata": {},
   "source": [
    "#### Define the test parameters"
   ]
  },
  {
   "cell_type": "code",
   "execution_count": 3,
   "id": "81e36b34",
   "metadata": {},
   "outputs": [],
   "source": [
    "N = 4 #Number of demagnetization points in the unanchored PCA fit.\n",
    "MAD = 15 #Underlying MAD of the demagnetization data \n",
    "MADc = 14.8 #Critical MAD at chosen significance level (0.05 in the case of Table 2)"
   ]
  },
  {
   "cell_type": "markdown",
   "id": "38343d21",
   "metadata": {},
   "source": [
    "#### Perform the calculation with 10$^6$ iterations\n",
    "N.B., this can take some time if you running a high number of iterations."
   ]
  },
  {
   "cell_type": "code",
   "execution_count": 4,
   "id": "62b82942",
   "metadata": {},
   "outputs": [],
   "source": [
    "power = POWERest(N,MAD,MADc)"
   ]
  },
  {
   "cell_type": "markdown",
   "id": "b3726695",
   "metadata": {},
   "source": [
    "#### Print the result to screen"
   ]
  },
  {
   "cell_type": "code",
   "execution_count": 5,
   "id": "363609bc",
   "metadata": {},
   "outputs": [
    {
     "name": "stdout",
     "output_type": "stream",
     "text": [
      "Estimated test power\n",
      "power = 0.63\n"
     ]
    }
   ],
   "source": [
    "print('Estimated test power')\n",
    "print(f\"power = {np.round(power,2)}\")"
   ]
  }
 ],
 "metadata": {
  "kernelspec": {
   "display_name": "Python 3",
   "language": "python",
   "name": "python3"
  },
  "language_info": {
   "codemirror_mode": {
    "name": "ipython",
    "version": 3
   },
   "file_extension": ".py",
   "mimetype": "text/x-python",
   "name": "python",
   "nbconvert_exporter": "python",
   "pygments_lexer": "ipython3",
   "version": "3.8.3"
  }
 },
 "nbformat": 4,
 "nbformat_minor": 5
}
